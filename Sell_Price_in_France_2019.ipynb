{
 "cells": [
  {
   "cell_type": "code",
   "execution_count": 38,
   "metadata": {},
   "outputs": [],
   "source": [
    "import pandas as pd\n",
    "from tqdm import tqdm\n",
    "import geopy\n",
    "import matplotlib.pyplot as plt\n",
    "import matplotlib.cm as cm\n",
    "import numpy as np\n",
    "import time\n",
    "import requests as rq\n",
    "\n",
    "\n",
    "plt.style.use('ggplot')"
   ]
  },
  {
   "cell_type": "code",
   "execution_count": 2,
   "metadata": {},
   "outputs": [],
   "source": [
    "file_path = \"D:\\\\hippo\\\\Documents\\\\PYTHON\\\\DATA\\\\gouv\\\\\"\n",
    "file_name = \"dvf-communes-2019.csv\"\n",
    "df = pd.read_csv(file_path+file_name,sep=\";\")"
   ]
  },
  {
   "cell_type": "code",
   "execution_count": 3,
   "metadata": {},
   "outputs": [
    {
     "data": {
      "text/html": [
       "<div>\n",
       "<style scoped>\n",
       "    .dataframe tbody tr th:only-of-type {\n",
       "        vertical-align: middle;\n",
       "    }\n",
       "\n",
       "    .dataframe tbody tr th {\n",
       "        vertical-align: top;\n",
       "    }\n",
       "\n",
       "    .dataframe thead th {\n",
       "        text-align: right;\n",
       "    }\n",
       "</style>\n",
       "<table border=\"1\" class=\"dataframe\">\n",
       "  <thead>\n",
       "    <tr style=\"text-align: right;\">\n",
       "      <th></th>\n",
       "      <th>ID</th>\n",
       "      <th>INSEE_COM</th>\n",
       "      <th>INSEE_DEP</th>\n",
       "      <th>INSEE_REG</th>\n",
       "      <th>CODE_EPCI</th>\n",
       "      <th>NOM_COM_M</th>\n",
       "      <th>POPULATION</th>\n",
       "      <th>Nb_Ventes</th>\n",
       "      <th>PrixMoyen_M2</th>\n",
       "    </tr>\n",
       "  </thead>\n",
       "  <tbody>\n",
       "    <tr>\n",
       "      <th>0</th>\n",
       "      <td>COMMUNE_0000000009760754</td>\n",
       "      <td>32216</td>\n",
       "      <td>32</td>\n",
       "      <td>76</td>\n",
       "      <td>200072320.0</td>\n",
       "      <td>LOURTIES MONBRUN</td>\n",
       "      <td>152</td>\n",
       "      <td>NaN</td>\n",
       "      <td>NaN</td>\n",
       "    </tr>\n",
       "    <tr>\n",
       "      <th>1</th>\n",
       "      <td>COMMUNE_0000000009756744</td>\n",
       "      <td>47033</td>\n",
       "      <td>47</td>\n",
       "      <td>75</td>\n",
       "      <td>200036523.0</td>\n",
       "      <td>BOUDY DE BEAUREGARD</td>\n",
       "      <td>412</td>\n",
       "      <td>4.0</td>\n",
       "      <td>1421.0</td>\n",
       "    </tr>\n",
       "    <tr>\n",
       "      <th>2</th>\n",
       "      <td>COMMUNE_0000000009760252</td>\n",
       "      <td>32009</td>\n",
       "      <td>32</td>\n",
       "      <td>76</td>\n",
       "      <td>243200425.0</td>\n",
       "      <td>ARMOUS ET CAU</td>\n",
       "      <td>86</td>\n",
       "      <td>NaN</td>\n",
       "      <td>NaN</td>\n",
       "    </tr>\n",
       "    <tr>\n",
       "      <th>3</th>\n",
       "      <td>COMMUNE_0000000009754403</td>\n",
       "      <td>38225</td>\n",
       "      <td>38</td>\n",
       "      <td>84</td>\n",
       "      <td>243801024.0</td>\n",
       "      <td>AUTRANS MEAUDRE EN VERCORS</td>\n",
       "      <td>2969</td>\n",
       "      <td>47.0</td>\n",
       "      <td>2667.0</td>\n",
       "    </tr>\n",
       "    <tr>\n",
       "      <th>4</th>\n",
       "      <td>COMMUNE_0000000009727903</td>\n",
       "      <td>62890</td>\n",
       "      <td>62</td>\n",
       "      <td>32</td>\n",
       "      <td>200044030.0</td>\n",
       "      <td>WILLEMAN</td>\n",
       "      <td>182</td>\n",
       "      <td>3.0</td>\n",
       "      <td>967.0</td>\n",
       "    </tr>\n",
       "  </tbody>\n",
       "</table>\n",
       "</div>"
      ],
      "text/plain": [
       "                         ID INSEE_COM INSEE_DEP  INSEE_REG    CODE_EPCI  \\\n",
       "0  COMMUNE_0000000009760754     32216        32         76  200072320.0   \n",
       "1  COMMUNE_0000000009756744     47033        47         75  200036523.0   \n",
       "2  COMMUNE_0000000009760252     32009        32         76  243200425.0   \n",
       "3  COMMUNE_0000000009754403     38225        38         84  243801024.0   \n",
       "4  COMMUNE_0000000009727903     62890        62         32  200044030.0   \n",
       "\n",
       "                    NOM_COM_M  POPULATION  Nb_Ventes  PrixMoyen_M2  \n",
       "0            LOURTIES MONBRUN         152        NaN           NaN  \n",
       "1         BOUDY DE BEAUREGARD         412        4.0        1421.0  \n",
       "2               ARMOUS ET CAU          86        NaN           NaN  \n",
       "3  AUTRANS MEAUDRE EN VERCORS        2969       47.0        2667.0  \n",
       "4                    WILLEMAN         182        3.0         967.0  "
      ]
     },
     "execution_count": 3,
     "metadata": {},
     "output_type": "execute_result"
    }
   ],
   "source": [
    "df.head()"
   ]
  },
  {
   "cell_type": "code",
   "execution_count": 4,
   "metadata": {},
   "outputs": [
    {
     "data": {
      "text/plain": [
       "(34886, 9)"
      ]
     },
     "execution_count": 4,
     "metadata": {},
     "output_type": "execute_result"
    }
   ],
   "source": [
    "df.shape"
   ]
  },
  {
   "cell_type": "markdown",
   "metadata": {},
   "source": [
    "There are 34886 entries in the dataframe corresponding to the number of metropolitan municipalities.\n",
    "Some of them have no data."
   ]
  },
  {
   "cell_type": "code",
   "execution_count": 5,
   "metadata": {},
   "outputs": [
    {
     "data": {
      "text/html": [
       "<div>\n",
       "<style scoped>\n",
       "    .dataframe tbody tr th:only-of-type {\n",
       "        vertical-align: middle;\n",
       "    }\n",
       "\n",
       "    .dataframe tbody tr th {\n",
       "        vertical-align: top;\n",
       "    }\n",
       "\n",
       "    .dataframe thead th {\n",
       "        text-align: right;\n",
       "    }\n",
       "</style>\n",
       "<table border=\"1\" class=\"dataframe\">\n",
       "  <thead>\n",
       "    <tr style=\"text-align: right;\">\n",
       "      <th></th>\n",
       "      <th>INSEE_REG</th>\n",
       "      <th>CODE_EPCI</th>\n",
       "      <th>POPULATION</th>\n",
       "      <th>Nb_Ventes</th>\n",
       "      <th>PrixMoyen_M2</th>\n",
       "    </tr>\n",
       "  </thead>\n",
       "  <tbody>\n",
       "    <tr>\n",
       "      <th>count</th>\n",
       "      <td>34886.000000</td>\n",
       "      <td>3.483700e+04</td>\n",
       "      <td>3.488600e+04</td>\n",
       "      <td>26822.000000</td>\n",
       "      <td>26822.000000</td>\n",
       "    </tr>\n",
       "    <tr>\n",
       "      <th>mean</th>\n",
       "      <td>52.462420</td>\n",
       "      <td>2.127412e+08</td>\n",
       "      <td>1.950264e+03</td>\n",
       "      <td>24.576243</td>\n",
       "      <td>1635.830177</td>\n",
       "    </tr>\n",
       "    <tr>\n",
       "      <th>std</th>\n",
       "      <td>24.216652</td>\n",
       "      <td>2.013492e+07</td>\n",
       "      <td>1.540069e+04</td>\n",
       "      <td>128.963903</td>\n",
       "      <td>864.263847</td>\n",
       "    </tr>\n",
       "    <tr>\n",
       "      <th>min</th>\n",
       "      <td>11.000000</td>\n",
       "      <td>2.000002e+08</td>\n",
       "      <td>0.000000e+00</td>\n",
       "      <td>1.000000</td>\n",
       "      <td>350.000000</td>\n",
       "    </tr>\n",
       "    <tr>\n",
       "      <th>25%</th>\n",
       "      <td>28.000000</td>\n",
       "      <td>2.000659e+08</td>\n",
       "      <td>1.990000e+02</td>\n",
       "      <td>2.000000</td>\n",
       "      <td>1101.000000</td>\n",
       "    </tr>\n",
       "    <tr>\n",
       "      <th>50%</th>\n",
       "      <td>44.000000</td>\n",
       "      <td>2.000696e+08</td>\n",
       "      <td>4.540000e+02</td>\n",
       "      <td>5.000000</td>\n",
       "      <td>1449.500000</td>\n",
       "    </tr>\n",
       "    <tr>\n",
       "      <th>75%</th>\n",
       "      <td>76.000000</td>\n",
       "      <td>2.412007e+08</td>\n",
       "      <td>1.147000e+03</td>\n",
       "      <td>13.000000</td>\n",
       "      <td>1933.000000</td>\n",
       "    </tr>\n",
       "    <tr>\n",
       "      <th>max</th>\n",
       "      <td>94.000000</td>\n",
       "      <td>2.495005e+08</td>\n",
       "      <td>2.190327e+06</td>\n",
       "      <td>7411.000000</td>\n",
       "      <td>14803.000000</td>\n",
       "    </tr>\n",
       "  </tbody>\n",
       "</table>\n",
       "</div>"
      ],
      "text/plain": [
       "          INSEE_REG     CODE_EPCI    POPULATION     Nb_Ventes  PrixMoyen_M2\n",
       "count  34886.000000  3.483700e+04  3.488600e+04  26822.000000  26822.000000\n",
       "mean      52.462420  2.127412e+08  1.950264e+03     24.576243   1635.830177\n",
       "std       24.216652  2.013492e+07  1.540069e+04    128.963903    864.263847\n",
       "min       11.000000  2.000002e+08  0.000000e+00      1.000000    350.000000\n",
       "25%       28.000000  2.000659e+08  1.990000e+02      2.000000   1101.000000\n",
       "50%       44.000000  2.000696e+08  4.540000e+02      5.000000   1449.500000\n",
       "75%       76.000000  2.412007e+08  1.147000e+03     13.000000   1933.000000\n",
       "max       94.000000  2.495005e+08  2.190327e+06   7411.000000  14803.000000"
      ]
     },
     "execution_count": 5,
     "metadata": {},
     "output_type": "execute_result"
    }
   ],
   "source": [
    "df.describe()"
   ]
  },
  {
   "cell_type": "markdown",
   "metadata": {},
   "source": [
    "There were 26822 sell in 2019. For a mean price of 1627€/m²."
   ]
  },
  {
   "cell_type": "markdown",
   "metadata": {},
   "source": [
    "Renaming the columns to simplify access and understanding"
   ]
  },
  {
   "cell_type": "code",
   "execution_count": 6,
   "metadata": {},
   "outputs": [],
   "source": [
    "df.columns=['ID','CP','DEPT','REGION','EPCI','NOM','POPULATION','VENTES','PRIX']"
   ]
  },
  {
   "cell_type": "code",
   "execution_count": 7,
   "metadata": {},
   "outputs": [
    {
     "data": {
      "text/html": [
       "<div>\n",
       "<style scoped>\n",
       "    .dataframe tbody tr th:only-of-type {\n",
       "        vertical-align: middle;\n",
       "    }\n",
       "\n",
       "    .dataframe tbody tr th {\n",
       "        vertical-align: top;\n",
       "    }\n",
       "\n",
       "    .dataframe thead th {\n",
       "        text-align: right;\n",
       "    }\n",
       "</style>\n",
       "<table border=\"1\" class=\"dataframe\">\n",
       "  <thead>\n",
       "    <tr style=\"text-align: right;\">\n",
       "      <th></th>\n",
       "      <th>ID</th>\n",
       "      <th>CP</th>\n",
       "      <th>DEPT</th>\n",
       "      <th>REGION</th>\n",
       "      <th>EPCI</th>\n",
       "      <th>NOM</th>\n",
       "      <th>POPULATION</th>\n",
       "      <th>VENTES</th>\n",
       "      <th>PRIX</th>\n",
       "    </tr>\n",
       "  </thead>\n",
       "  <tbody>\n",
       "    <tr>\n",
       "      <th>0</th>\n",
       "      <td>COMMUNE_0000000009760754</td>\n",
       "      <td>32216</td>\n",
       "      <td>32</td>\n",
       "      <td>76</td>\n",
       "      <td>200072320.0</td>\n",
       "      <td>LOURTIES MONBRUN</td>\n",
       "      <td>152</td>\n",
       "      <td>NaN</td>\n",
       "      <td>NaN</td>\n",
       "    </tr>\n",
       "    <tr>\n",
       "      <th>1</th>\n",
       "      <td>COMMUNE_0000000009756744</td>\n",
       "      <td>47033</td>\n",
       "      <td>47</td>\n",
       "      <td>75</td>\n",
       "      <td>200036523.0</td>\n",
       "      <td>BOUDY DE BEAUREGARD</td>\n",
       "      <td>412</td>\n",
       "      <td>4.0</td>\n",
       "      <td>1421.0</td>\n",
       "    </tr>\n",
       "    <tr>\n",
       "      <th>2</th>\n",
       "      <td>COMMUNE_0000000009760252</td>\n",
       "      <td>32009</td>\n",
       "      <td>32</td>\n",
       "      <td>76</td>\n",
       "      <td>243200425.0</td>\n",
       "      <td>ARMOUS ET CAU</td>\n",
       "      <td>86</td>\n",
       "      <td>NaN</td>\n",
       "      <td>NaN</td>\n",
       "    </tr>\n",
       "    <tr>\n",
       "      <th>3</th>\n",
       "      <td>COMMUNE_0000000009754403</td>\n",
       "      <td>38225</td>\n",
       "      <td>38</td>\n",
       "      <td>84</td>\n",
       "      <td>243801024.0</td>\n",
       "      <td>AUTRANS MEAUDRE EN VERCORS</td>\n",
       "      <td>2969</td>\n",
       "      <td>47.0</td>\n",
       "      <td>2667.0</td>\n",
       "    </tr>\n",
       "    <tr>\n",
       "      <th>4</th>\n",
       "      <td>COMMUNE_0000000009727903</td>\n",
       "      <td>62890</td>\n",
       "      <td>62</td>\n",
       "      <td>32</td>\n",
       "      <td>200044030.0</td>\n",
       "      <td>WILLEMAN</td>\n",
       "      <td>182</td>\n",
       "      <td>3.0</td>\n",
       "      <td>967.0</td>\n",
       "    </tr>\n",
       "  </tbody>\n",
       "</table>\n",
       "</div>"
      ],
      "text/plain": [
       "                         ID     CP DEPT  REGION         EPCI  \\\n",
       "0  COMMUNE_0000000009760754  32216   32      76  200072320.0   \n",
       "1  COMMUNE_0000000009756744  47033   47      75  200036523.0   \n",
       "2  COMMUNE_0000000009760252  32009   32      76  243200425.0   \n",
       "3  COMMUNE_0000000009754403  38225   38      84  243801024.0   \n",
       "4  COMMUNE_0000000009727903  62890   62      32  200044030.0   \n",
       "\n",
       "                          NOM  POPULATION  VENTES    PRIX  \n",
       "0            LOURTIES MONBRUN         152     NaN     NaN  \n",
       "1         BOUDY DE BEAUREGARD         412     4.0  1421.0  \n",
       "2               ARMOUS ET CAU          86     NaN     NaN  \n",
       "3  AUTRANS MEAUDRE EN VERCORS        2969    47.0  2667.0  \n",
       "4                    WILLEMAN         182     3.0   967.0  "
      ]
     },
     "execution_count": 7,
     "metadata": {},
     "output_type": "execute_result"
    }
   ],
   "source": [
    "df.head()"
   ]
  },
  {
   "cell_type": "markdown",
   "metadata": {},
   "source": [
    "Updating our dataframe to exclude NaN values and creating a backup df with all data"
   ]
  },
  {
   "cell_type": "code",
   "execution_count": 8,
   "metadata": {},
   "outputs": [
    {
     "name": "stdout",
     "output_type": "stream",
     "text": [
      "8112 rows deleted!\n"
     ]
    }
   ],
   "source": [
    "df_all_data = df\n",
    "with_na = df.shape[0]\n",
    "df = df.dropna()\n",
    "without_na = df.shape[0]\n",
    "print(f\"{with_na-without_na} rows deleted!\")"
   ]
  },
  {
   "cell_type": "markdown",
   "metadata": {},
   "source": [
    "We now want to see in which cities did the most sales took place and where were the biggest deals."
   ]
  },
  {
   "cell_type": "code",
   "execution_count": 9,
   "metadata": {},
   "outputs": [
    {
     "data": {
      "image/png": "[encoded data removed]",
      "text/plain": [
       "<Figure size 864x576 with 1 Axes>"
      ]
     },
     "metadata": {
      "needs_background": "light"
     },
     "output_type": "display_data"
    }
   ],
   "source": [
    "max_sales = df[['NOM','VENTES']].sort_values('VENTES',ascending=False)[:5]\n",
    "\n",
    "fig,ax = plt.subplots(figsize=(12,8))\n",
    "colors = cm.autumn(np.linspace(0,1,len(max_sales['NOM'])))\n",
    "bar = ax.bar(max_sales['NOM'],max_sales['VENTES'],color=colors,alpha=.8)\n",
    "\n",
    "for rect in bar:\n",
    "    height = rect.get_height()\n",
    "    ax.text(rect.get_x() + rect.get_width()/2.0, height-500, int(height),c='k', ha='center', va='bottom')\n",
    "\n",
    "plt.title(\"Top 5 cities with most sales in 2019\")\n",
    "plt.savefig(\"images/Top5Sales.png\")\n",
    "plt.show()"
   ]
  },
  {
   "cell_type": "code",
   "execution_count": 10,
   "metadata": {},
   "outputs": [
    {
     "data": {
      "image/png": "[encoded data removed]",
      "text/plain": [
       "<Figure size 864x576 with 1 Axes>"
      ]
     },
     "metadata": {
      "needs_background": "light"
     },
     "output_type": "display_data"
    }
   ],
   "source": [
    "max_price = df[['NOM','PRIX']].sort_values('PRIX',ascending=False)[:5]\n",
    "\n",
    "fig,ax = plt.subplots(figsize=(12,8))\n",
    "colors = cm.autumn(np.linspace(0,1,len(max_price['NOM'])))\n",
    "bar = ax.bar(max_price['NOM'],max_price['PRIX'],color=colors,alpha=.8)\n",
    "\n",
    "for rect in bar:\n",
    "    height = rect.get_height()\n",
    "    ax.text(rect.get_x() + rect.get_width()/2.0, height-1000, int(height),c='k', ha='center', va='bottom')\n",
    "\n",
    "plt.title(\"Top 5 cities with highest sell price in 2019\")\n",
    "plt.savefig(\"images/Top5Prices.png\")\n",
    "plt.show()"
   ]
  },
  {
   "cell_type": "raw",
   "metadata": {},
   "source": [
    "It seems strange that Morlet appear in this leaderboard, according to differents websites the m² average price there is about 1200€, 10 times less that what we get. We could suppose an error occured during entering data.\n",
    "\n",
    "After some research, I found out that the sell we are talking about concern \"Chateau de Fretoy\" sell for nearly a million euros and register with only 66 m². That explain this outlier."
   ]
  },
  {
   "cell_type": "code",
   "execution_count": 11,
   "metadata": {},
   "outputs": [
    {
     "name": "stderr",
     "output_type": "stream",
     "text": [
      "c:\\users\\hippo\\appdata\\local\\programs\\python\\python37\\lib\\site-packages\\pandas\\core\\indexing.py:494: SettingWithCopyWarning: \n",
      "A value is trying to be set on a copy of a slice from a DataFrame.\n",
      "Try using .loc[row_indexer,col_indexer] = value instead\n",
      "\n",
      "See the caveats in the documentation: http://pandas.pydata.org/pandas-docs/stable/user_guide/indexing.html#returning-a-view-versus-a-copy\n",
      "  self.obj[item] = s\n"
     ]
    }
   ],
   "source": [
    "list_correct_dept = list(map(lambda x: \"0\"+x if len(x)==1 else x, df['DEPT']))\n",
    "df.loc[:,\"DEPT\"] = list_correct_dept"
   ]
  },
  {
   "cell_type": "markdown",
   "metadata": {},
   "source": [
    "Create a dictionnary with names matching dept number from goverment api."
   ]
  },
  {
   "cell_type": "code",
   "execution_count": 12,
   "metadata": {},
   "outputs": [
    {
     "name": "stderr",
     "output_type": "stream",
     "text": [
      "100%|██████████████████████████████████████████████████████████████████████████████████| 92/92 [00:30<00:00,  2.99it/s]\n"
     ]
    }
   ],
   "source": [
    "\n",
    "BASE_URL = \"https://geo.api.gouv.fr/departements/\"\n",
    "dict_dept = {}\n",
    "list_dept = list(df['DEPT'].unique())\n",
    "for dept in tqdm(list_dept):\n",
    "    info_dept = rq.get(BASE_URL+dept).json()\n",
    "    name_dept = info_dept['nom']\n",
    "    dict_dept[dept] = name_dept\n"
   ]
  },
  {
   "cell_type": "code",
   "execution_count": 13,
   "metadata": {},
   "outputs": [
    {
     "data": {
      "image/png": "[encoded data removed]",
      "text/plain": [
       "<Figure size 1296x432 with 2 Axes>"
      ]
     },
     "metadata": {
      "needs_background": "light"
     },
     "output_type": "display_data"
    }
   ],
   "source": [
    "cols = ['DEPT','POPULATION','VENTES','PRIX']\n",
    "df_dept_prix = df.groupby('DEPT')['PRIX'].mean()#sort_values('DEPT')\n",
    "df_dept_ventes = df.groupby('DEPT')['VENTES'].sum()#sort_values('DEPT')\n",
    "df_dept = pd.concat([df_dept_prix,df_dept_ventes], axis=1)\n",
    "df_dept = df_dept.sort_values('PRIX')\n",
    "labels1 = list(map(lambda x: f\"{dict_dept[x]}\\n({x})\",df_dept[:5].index))\n",
    "\n",
    "\n",
    "fig,axs = plt.subplots(1,2, figsize=(18,6))\n",
    "\n",
    "font_param = {'fontsize':16}\n",
    "\n",
    "# Highest prices\n",
    "colors1 = cm.seismic(np.linspace(1,0,10))\n",
    "df_dept = df_dept.sort_values('PRIX',ascending=False)\n",
    "labels1 = list(map(lambda x: f\"{dict_dept[x]}\\n({x})\",df_dept[:5].index))\n",
    "bar1 = axs[0].bar(labels1, df_dept['PRIX'][:5],color = colors1,alpha=.8)\n",
    "\n",
    "for rect in bar1:\n",
    "    height = rect.get_height()\n",
    "    axs[0].text(rect.get_x() + rect.get_width()/2.0, height-500, int(height),c='k', ha='center', va='bottom', fontdict=font_param)\n",
    "    \n",
    "axs[0].set_title(\"with highest sell price in 2019\", fontdict=font_param)\n",
    "axs[0].set_ylabel(\"€/m²\", rotation=0, ha='right', fontdict=font_param)\n",
    "\n",
    "# Lowest prices\n",
    "\n",
    "colors2 = cm.seismic(np.linspace(0,1,10))\n",
    "df_dept = df_dept.sort_values('PRIX')\n",
    "labels2 = list(map(lambda x: f\"{dict_dept[x]}\\n({x})\",df_dept[:5].index))\n",
    "bar2 = axs[1].bar(labels2, df_dept['PRIX'][:5],color = colors2,alpha=.8)\n",
    "\n",
    "for rect in bar2:\n",
    "    height = rect.get_height()\n",
    "    axs[1].text(rect.get_x() + rect.get_width()/2.0, height-100, int(height),c='k', ha='center', va='bottom', fontdict=font_param)\n",
    "\n",
    "axs[1].set_title(\"with lowest sell price in 2019\", fontdict=font_param)\n",
    "axs[1].set_ylabel(\"€/m²\", rotation=0, fontdict=font_param,ha='right')\n",
    "\n",
    "fig.suptitle(\"Top 5 Departments\",fontsize=20)\n",
    "plt.savefig(\"images/DeptStats.png\")\n",
    "plt.show()"
   ]
  },
  {
   "cell_type": "code",
   "execution_count": 14,
   "metadata": {},
   "outputs": [
    {
     "data": {
      "text/html": [
       "<div>\n",
       "<style scoped>\n",
       "    .dataframe tbody tr th:only-of-type {\n",
       "        vertical-align: middle;\n",
       "    }\n",
       "\n",
       "    .dataframe tbody tr th {\n",
       "        vertical-align: top;\n",
       "    }\n",
       "\n",
       "    .dataframe thead th {\n",
       "        text-align: right;\n",
       "    }\n",
       "</style>\n",
       "<table border=\"1\" class=\"dataframe\">\n",
       "  <thead>\n",
       "    <tr style=\"text-align: right;\">\n",
       "      <th></th>\n",
       "      <th>ID</th>\n",
       "      <th>CP</th>\n",
       "      <th>DEPT</th>\n",
       "      <th>REGION</th>\n",
       "      <th>EPCI</th>\n",
       "      <th>NOM</th>\n",
       "      <th>POPULATION</th>\n",
       "      <th>VENTES</th>\n",
       "      <th>PRIX</th>\n",
       "    </tr>\n",
       "  </thead>\n",
       "  <tbody>\n",
       "    <tr>\n",
       "      <th>161</th>\n",
       "      <td>COMMUNE_0000000009738373</td>\n",
       "      <td>91174</td>\n",
       "      <td>91</td>\n",
       "      <td>11</td>\n",
       "      <td>200059228.0</td>\n",
       "      <td>CORBEIL ESSONNES</td>\n",
       "      <td>51049</td>\n",
       "      <td>726.0</td>\n",
       "      <td>2499.0</td>\n",
       "    </tr>\n",
       "    <tr>\n",
       "      <th>548</th>\n",
       "      <td>COMMUNE_0000000009748800</td>\n",
       "      <td>86194</td>\n",
       "      <td>86</td>\n",
       "      <td>75</td>\n",
       "      <td>200069854.0</td>\n",
       "      <td>POITIERS</td>\n",
       "      <td>87961</td>\n",
       "      <td>1233.0</td>\n",
       "      <td>1784.0</td>\n",
       "    </tr>\n",
       "    <tr>\n",
       "      <th>552</th>\n",
       "      <td>COMMUNE_0000000009737009</td>\n",
       "      <td>94081</td>\n",
       "      <td>94</td>\n",
       "      <td>11</td>\n",
       "      <td>200054781.0</td>\n",
       "      <td>VITRY SUR SEINE</td>\n",
       "      <td>92755</td>\n",
       "      <td>657.0</td>\n",
       "      <td>4125.0</td>\n",
       "    </tr>\n",
       "    <tr>\n",
       "      <th>581</th>\n",
       "      <td>COMMUNE_0000000009735478</td>\n",
       "      <td>77284</td>\n",
       "      <td>77</td>\n",
       "      <td>11</td>\n",
       "      <td>200072130.0</td>\n",
       "      <td>MEAUX</td>\n",
       "      <td>54331</td>\n",
       "      <td>691.0</td>\n",
       "      <td>2758.0</td>\n",
       "    </tr>\n",
       "    <tr>\n",
       "      <th>607</th>\n",
       "      <td>COMMUNE_0000000009736054</td>\n",
       "      <td>92026</td>\n",
       "      <td>92</td>\n",
       "      <td>11</td>\n",
       "      <td>200054781.0</td>\n",
       "      <td>COURBEVOIE</td>\n",
       "      <td>81720</td>\n",
       "      <td>781.0</td>\n",
       "      <td>6690.0</td>\n",
       "    </tr>\n",
       "  </tbody>\n",
       "</table>\n",
       "</div>"
      ],
      "text/plain": [
       "                           ID     CP DEPT  REGION         EPCI  \\\n",
       "161  COMMUNE_0000000009738373  91174   91      11  200059228.0   \n",
       "548  COMMUNE_0000000009748800  86194   86      75  200069854.0   \n",
       "552  COMMUNE_0000000009737009  94081   94      11  200054781.0   \n",
       "581  COMMUNE_0000000009735478  77284   77      11  200072130.0   \n",
       "607  COMMUNE_0000000009736054  92026   92      11  200054781.0   \n",
       "\n",
       "                  NOM  POPULATION  VENTES    PRIX  \n",
       "161  CORBEIL ESSONNES       51049   726.0  2499.0  \n",
       "548          POITIERS       87961  1233.0  1784.0  \n",
       "552   VITRY SUR SEINE       92755   657.0  4125.0  \n",
       "581             MEAUX       54331   691.0  2758.0  \n",
       "607        COURBEVOIE       81720   781.0  6690.0  "
      ]
     },
     "execution_count": 14,
     "metadata": {},
     "output_type": "execute_result"
    }
   ],
   "source": [
    "sup_500 = df['ID'][df['VENTES']>500]\n",
    "sup_500 = sup_500\n",
    "\n",
    "df_sup_500 = df[df['ID'].isin(sup_500)]\n",
    "\n",
    "df_sup_500.head()"
   ]
  },
  {
   "cell_type": "code",
   "execution_count": 15,
   "metadata": {},
   "outputs": [],
   "source": [
    "from geopy.exc import GeocoderTimedOut\n",
    "\n",
    "def do_geocode(address, attempt=1, max_attempts=10):\n",
    "    try:\n",
    "        infos = geolocator.geocode(address)\n",
    "        return (infos.latitude, infos.longitude)\n",
    "    except GeocoderTimedOut:\n",
    "        if attempt <= max_attempts:\n",
    "            return do_geocode(address, attempt=attempt+1)\n",
    "        raise"
   ]
  },
  {
   "cell_type": "code",
   "execution_count": 16,
   "metadata": {},
   "outputs": [
    {
     "name": "stderr",
     "output_type": "stream",
     "text": [
      "100%|████████████████████████████████████████████████████████████████████████████████| 143/143 [01:18<00:00,  1.81it/s]\n"
     ]
    }
   ],
   "source": [
    "from geopy.geocoders import Nominatim\n",
    "geolocator = Nominatim(user_agent=\"dvf_2019_notebook\")\n",
    "\n",
    "list_lat_lon = []\n",
    "for i in tqdm(range(sup_500.shape[0])):\n",
    "    lat_lon = do_geocode(df_sup_500['NOM'].iloc[i])\n",
    "    list_lat_lon.append(lat_lon)"
   ]
  },
  {
   "cell_type": "code",
   "execution_count": 17,
   "metadata": {},
   "outputs": [
    {
     "data": {
      "text/html": [
       "<div>\n",
       "<style scoped>\n",
       "    .dataframe tbody tr th:only-of-type {\n",
       "        vertical-align: middle;\n",
       "    }\n",
       "\n",
       "    .dataframe tbody tr th {\n",
       "        vertical-align: top;\n",
       "    }\n",
       "\n",
       "    .dataframe thead th {\n",
       "        text-align: right;\n",
       "    }\n",
       "</style>\n",
       "<table border=\"1\" class=\"dataframe\">\n",
       "  <thead>\n",
       "    <tr style=\"text-align: right;\">\n",
       "      <th></th>\n",
       "      <th>lat</th>\n",
       "      <th>lon</th>\n",
       "    </tr>\n",
       "    <tr>\n",
       "      <th>ID</th>\n",
       "      <th></th>\n",
       "      <th></th>\n",
       "    </tr>\n",
       "  </thead>\n",
       "  <tbody>\n",
       "    <tr>\n",
       "      <th>COMMUNE_0000000009738373</th>\n",
       "      <td>48.613773</td>\n",
       "      <td>2.481809</td>\n",
       "    </tr>\n",
       "    <tr>\n",
       "      <th>COMMUNE_0000000009748800</th>\n",
       "      <td>46.580260</td>\n",
       "      <td>0.340196</td>\n",
       "    </tr>\n",
       "    <tr>\n",
       "      <th>COMMUNE_0000000009737009</th>\n",
       "      <td>48.787600</td>\n",
       "      <td>2.391640</td>\n",
       "    </tr>\n",
       "    <tr>\n",
       "      <th>COMMUNE_0000000009735478</th>\n",
       "      <td>48.958271</td>\n",
       "      <td>2.877354</td>\n",
       "    </tr>\n",
       "    <tr>\n",
       "      <th>COMMUNE_0000000009736054</th>\n",
       "      <td>48.895333</td>\n",
       "      <td>2.256160</td>\n",
       "    </tr>\n",
       "  </tbody>\n",
       "</table>\n",
       "</div>"
      ],
      "text/plain": [
       "                                lat       lon\n",
       "ID                                           \n",
       "COMMUNE_0000000009738373  48.613773  2.481809\n",
       "COMMUNE_0000000009748800  46.580260  0.340196\n",
       "COMMUNE_0000000009737009  48.787600  2.391640\n",
       "COMMUNE_0000000009735478  48.958271  2.877354\n",
       "COMMUNE_0000000009736054  48.895333  2.256160"
      ]
     },
     "execution_count": 17,
     "metadata": {},
     "output_type": "execute_result"
    }
   ],
   "source": [
    "df_lat_lon = pd.DataFrame(list_lat_lon, columns=['lat', 'lon'], index=sup_500)\n",
    "df_lat_lon.head()"
   ]
  },
  {
   "cell_type": "code",
   "execution_count": 71,
   "metadata": {},
   "outputs": [
    {
     "data": {
      "application/vnd.plotly.v1+json": {
       "config": {
        "plotlyServerURL": "https://plot.ly"
       },
       "data": [
        {
         "customdata": [
          [
           726,
           2499
          ],
          [
           1233,
           1784
          ],
          [
           657,
           4125
          ],
          [
           691,
           2758
          ],
          [
           781,
           6690
          ],
          [
           605,
           6421
          ],
          [
           873,
           3765
          ],
          [
           514,
           3046
          ],
          [
           568,
           1350
          ],
          [
           1421,
           2329
          ],
          [
           701,
           2255
          ],
          [
           877,
           1839
          ],
          [
           687,
           1559
          ],
          [
           1107,
           4874
          ],
          [
           1201,
           3426
          ],
          [
           629,
           7135
          ],
          [
           732,
           3991
          ],
          [
           1097,
           2782
          ],
          [
           1001,
           1496
          ],
          [
           2574,
           1135
          ],
          [
           4826,
           4627
          ],
          [
           534,
           2948
          ],
          [
           802,
           3866
          ],
          [
           897,
           4121
          ],
          [
           552,
           4989
          ],
          [
           516,
           3770
          ],
          [
           694,
           4283
          ],
          [
           687,
           5850
          ],
          [
           565,
           1925
          ],
          [
           561,
           5781
          ],
          [
           524,
           3052
          ],
          [
           891,
           2957
          ],
          [
           896,
           4750
          ],
          [
           978,
           1670
          ],
          [
           2437,
           2026
          ],
          [
           901,
           4372
          ],
          [
           977,
           6509
          ],
          [
           795,
           1565
          ],
          [
           589,
           4170
          ],
          [
           2737,
           2303
          ],
          [
           836,
           10306
          ],
          [
           549,
           3376
          ],
          [
           659,
           1394
          ],
          [
           1498,
           3312
          ],
          [
           782,
           2783
          ],
          [
           7411,
           4103
          ],
          [
           1421,
           1919
          ],
          [
           1602,
           3760
          ],
          [
           552,
           4732
          ],
          [
           521,
           5591
          ],
          [
           1412,
           3219
          ],
          [
           689,
           2173
          ],
          [
           611,
           4126
          ],
          [
           1041,
           5467
          ],
          [
           750,
           2942
          ],
          [
           1336,
           1654
          ],
          [
           5827,
           3171
          ],
          [
           1893,
           2483
          ],
          [
           2869,
           1961
          ],
          [
           567,
           3555
          ],
          [
           798,
           3255
          ],
          [
           2090,
           1454
          ],
          [
           785,
           2076
          ],
          [
           602,
           3736
          ],
          [
           644,
           5986
          ],
          [
           693,
           6066
          ],
          [
           513,
           6583
          ],
          [
           1919,
           4515
          ],
          [
           2820,
           2286
          ],
          [
           911,
           2510
          ],
          [
           1661,
           2168
          ],
          [
           655,
           3237
          ],
          [
           540,
           1737
          ],
          [
           941,
           9093
          ],
          [
           696,
           1433
          ],
          [
           543,
           1963
          ],
          [
           527,
           3737
          ],
          [
           587,
           3026
          ],
          [
           1422,
           5699
          ],
          [
           1094,
           1483
          ],
          [
           583,
           6352
          ],
          [
           647,
           1145
          ],
          [
           694,
           4137
          ],
          [
           721,
           5407
          ],
          [
           807,
           1489
          ],
          [
           4266,
           3132
          ],
          [
           639,
           6210
          ],
          [
           1130,
           4196
          ],
          [
           2171,
           1531
          ],
          [
           662,
           1895
          ],
          [
           512,
           1227
          ],
          [
           2405,
           2629
          ],
          [
           528,
           4183
          ],
          [
           536,
           2970
          ],
          [
           587,
           2560
          ],
          [
           837,
           1702
          ],
          [
           832,
           3393
          ],
          [
           6296,
           3459
          ],
          [
           782,
           1418
          ],
          [
           745,
           3348
          ],
          [
           1524,
           2020
          ],
          [
           699,
           3322
          ],
          [
           836,
           3775
          ],
          [
           538,
           3539
          ],
          [
           1032,
           2183
          ],
          [
           537,
           4906
          ],
          [
           607,
           1658
          ],
          [
           825,
           3026
          ],
          [
           1121,
           3647
          ],
          [
           729,
           1640
          ],
          [
           1169,
           3342
          ],
          [
           1215,
           2803
          ],
          [
           586,
           2380
          ],
          [
           1226,
           2386
          ],
          [
           950,
           1563
          ],
          [
           514,
           5175
          ],
          [
           724,
           4341
          ],
          [
           717,
           4293
          ],
          [
           1011,
           1749
          ],
          [
           2140,
           2166
          ],
          [
           831,
           7770
          ],
          [
           1693,
           8648
          ],
          [
           2560,
           1679
          ],
          [
           517,
           1598
          ],
          [
           770,
           3638
          ],
          [
           843,
           3837
          ],
          [
           627,
           5349
          ],
          [
           819,
           1309
          ],
          [
           695,
           5266
          ],
          [
           867,
           1703
          ],
          [
           1025,
           1820
          ],
          [
           650,
           1834
          ],
          [
           882,
           8438
          ],
          [
           548,
           2675
          ],
          [
           661,
           5952
          ],
          [
           2286,
           2531
          ],
          [
           1209,
           5827
          ],
          [
           1372,
           6340
          ],
          [
           969,
           1602
          ],
          [
           513,
           2730
          ],
          [
           904,
           3445
          ],
          [
           1877,
           3228
          ],
          [
           531,
           5230
          ]
         ],
         "hovertemplate": "<b>%{hovertext}</b><br><br>VENTES=%{customdata[0]}<br>PRIX=%{marker.color}<br>lat=%{lat}<br>lon=%{lon}<extra></extra>",
         "hovertext": [
          "CORBEIL ESSONNES",
          "POITIERS",
          "VITRY SUR SEINE",
          "MEAUX",
          "COURBEVOIE",
          "ARCACHON",
          "CRETEIL",
          "AUBAGNE",
          "CARCASSONNE",
          "SAINT NAZAIRE",
          "CHARTRES",
          "LORIENT",
          "BLOIS",
          "CANNES",
          "MERIGNAC",
          "MONTROUGE",
          "TALENCE",
          "VANNES",
          "BOURGES",
          "SAINT ETIENNE",
          "BORDEAUX",
          "LAMBERSART",
          "NOISY LE GRAND",
          "GRAU DU ROI",
          "HOUILLES",
          "CALUIRE ET CUIRE",
          "SIX FOURS LES PLAGES",
          "FONTENAY SOUS BOIS",
          "ALBI",
          "SAINT OUEN SUR SEINE",
          "THONON LES BAINS",
          "MONTPELLIER",
          "BAULE ESCOUBLAC",
          "CHOLET",
          "NIMES",
          "AIX EN PROVENCE",
          "VERSAILLES",
          "BRIVE LA GAILLARDE",
          "SAINT LAURENT DU VAR",
          "REIMS",
          "NEUILLY SUR SEINE",
          "GAGNY",
          "CALAIS",
          "SABLES D OLONNE",
          "REZE",
          "NICE",
          "CLERMONT FERRAND",
          "ROCHELLE",
          "TESTE DE BUCH",
          "MEUDON",
          "AGDE",
          "EVRY COURCOURONNES",
          "VALLAURIS",
          "COLOMBES",
          "CERGY",
          "TOURCOING",
          "TOULOUSE",
          "ROUEN",
          "HAVRE",
          "CONFLANS SAINTE HONORINE",
          "CHELLES",
          "LIMOGES",
          "NARBONNE",
          "AUBERVILLIERS",
          "CLAMART",
          "RUEIL MALMAISON",
          "GARENNE COLOMBES",
          "ANTIBES",
          "ANGERS",
          "SAINT HERBLAIN",
          "AMIENS",
          "LIVRY GARGAN",
          "DUNKERQUE",
          "LEVALLOIS PERRET",
          "ANGOULEME",
          "JOUE LES TOURS",
          "ROSNY SOUS BOIS",
          "FRANCONVILLE",
          "SAINT MAUR DES FOSSES",
          "TROYES",
          "CLICHY",
          "ROANNE",
          "SARTROUVILLE",
          "MAISONS ALFORT",
          "ROUBAIX",
          "LILLE",
          "NOGENT SUR MARNE",
          "CAGNES SUR MER",
          "BREST",
          "ARRAS",
          "EPINAL",
          "TOULON",
          "SAINT RAPHAEL",
          "MADELEINE",
          "SAINT HILAIRE DE RIEZ",
          "LAVAL",
          "VILLEURBANNE",
          "NANTES",
          "AGEN",
          "AULNAY SOUS BOIS",
          "NANCY",
          "MARCQ EN BAROEUL",
          "SAINT DENIS",
          "FREJUS",
          "DIJON",
          "ALFORTVILLE",
          "VALENCIENNES",
          "SEYNE SUR MER",
          "SAINT MALO",
          "QUIMPER",
          "ARGENTEUIL",
          "SETE",
          "COMPIEGNE",
          "GRENOBLE",
          "NIORT",
          "VILLENEUVE LOUBET",
          "MENTON",
          "CIOTAT",
          "CHERBOURG EN COTENTIN",
          "ORLEANS",
          "ISSY LES MOULINEAUX",
          "BOULOGNE BILLANCOURT",
          "MANS",
          "ALES",
          "PESSAC",
          "CHAMPIGNY SUR MARNE",
          "PERREUX SUR MARNE",
          "SAINT BRIEUC",
          "ANTONY",
          "MONTAUBAN",
          "ROCHE SUR YON",
          "BEAUVAIS",
          "VINCENNES",
          "MELUN",
          "SAINT GERMAIN EN LAYE",
          "TOURS",
          "MONTREUIL",
          "ASNIERES SUR SEINE",
          "BEZIERS",
          "VILLENEUVE D ASCQ",
          "CANNET",
          "RENNES",
          "CHATOU"
         ],
         "lat": [
          48.6137734,
          46.5802596,
          48.7876,
          48.9582708,
          48.8953328,
          44.6539428,
          48.7771486,
          43.2924385,
          43.2130358,
          47.2733517,
          48.4438601,
          47.7477336,
          47.5876861,
          43.5515198,
          44.8422361,
          48.8188544,
          44.8088438,
          47.6586772,
          47.0805693,
          45.4401467,
          44.841225,
          50.6477924,
          48.8493972,
          43.5361048,
          48.9229416,
          45.7969952,
          43.0935105,
          48.8490721,
          43.9277552,
          48.911729,
          46.3731303,
          43.6112422,
          47.2843726,
          47.0617293,
          43.8374249,
          43.5298424,
          48.8035403,
          45.1584982,
          43.6690101,
          49.2577886,
          48.884683,
          48.8853708,
          50.9488,
          46.5488396,
          47.1905456,
          43.7009358,
          45.7774551,
          46.1591126,
          44.6316943,
          48.8126688,
          43.3134787,
          48.6284131,
          43.5761001,
          48.922788,
          49.0527528,
          50.7235038,
          43.6044622,
          49.4404591,
          49.4938975,
          48.9938791,
          49.3549458,
          45.8354243,
          43.1837661,
          48.9146078,
          48.800368,
          48.87778,
          48.9069349,
          43.5836,
          47.4739884,
          47.2233007,
          49.8941708,
          48.917335,
          51.0347708,
          48.892956,
          45.6512748,
          47.3510905,
          48.8716626,
          48.5000906,
          48.8033057,
          48.2971626,
          48.9026,
          46.0345572,
          48.9409016,
          48.8012045,
          50.6915893,
          50.6365654,
          48.8388009,
          43.6612012,
          48.3905283,
          50.291048,
          48.1747684,
          43.1257311,
          45.3043079,
          50.6565418,
          46.7219444,
          48.0710377,
          45.7733105,
          47.2186371,
          44.2015827,
          48.934231,
          48.6937223,
          50.6767018,
          48.935773,
          43.4330308,
          47.3215806,
          48.8051624,
          50.3579317,
          43.1007714,
          48.6454528,
          47.9960325,
          48.9479069,
          43.4014434,
          49.4179497,
          45.1875602,
          46.3239455,
          43.6579947,
          43.7753495,
          43.1758591,
          49.6425343,
          45.4810323,
          48.8250508,
          48.8356649,
          48.0073498,
          44.1253665,
          44.805615,
          48.8137759,
          48.840627,
          48.5141594,
          48.753554,
          44.0175835,
          46.6705431,
          49.4300997,
          48.8474508,
          48.539927,
          48.935606899999996,
          47.3900474,
          50.4638918,
          48.9105948,
          43.3426562,
          50.6195154,
          43.61666715,
          48.1113387,
          48.8897044
         ],
         "legendgroup": "",
         "lon": [
          2.4818087,
          0.340196,
          2.39164,
          2.8773541,
          2.2561602,
          -1.1755714,
          2.4530731,
          5.5703031,
          2.3491069,
          -2.2138905,
          1.4881434,
          -3.3660907,
          1.3337639,
          7.0134418,
          -0.6469599,
          2.3194375,
          -0.5879629,
          -2.7599079,
          2.398932,
          4.3873058,
          -0.5800364,
          3.0223644,
          2.5519571,
          4.1360255,
          2.1868998,
          4.8423304,
          5.8393953,
          2.4749347,
          2.147899,
          2.334267,
          6.4779448,
          3.8767337,
          -2.3951595,
          -0.8801349,
          4.3600687,
          5.4474738,
          2.1266886,
          1.5332389,
          7.1906969,
          4.031926,
          2.2695658,
          2.5361783,
          1.87468,
          -1.807451128918664,
          -1.5695287,
          7.2683912,
          3.0819427,
          -1.1520434,
          -1.1491319,
          2.2385432,
          3.4771629,
          2.4345980281360133,
          7.05859,
          2.2543577,
          2.0388736,
          3.1605714,
          1.4442469,
          1.0939658,
          0.1079732,
          2.0949768,
          3.0344372,
          1.2644847,
          3.0042121,
          2.3821895,
          2.2630292,
          2.1802832,
          2.2465748,
          7.10905,
          -0.5515588,
          -1.6346964,
          2.2956951,
          2.5298854,
          2.3772525,
          2.2881683,
          0.1576745,
          0.6622524,
          2.4875193,
          6.4527267,
          2.4853015,
          4.0746257,
          2.30551,
          4.0729178,
          2.1585037,
          2.4309703,
          3.1741734,
          3.0635282,
          2.4917292,
          7.1513834,
          -4.4860088,
          2.7772211,
          6.4503643,
          5.9304919,
          1.0747165,
          3.0678164,
          -1.9441667,
          -0.7723499,
          4.8869339,
          -1.5541362,
          0.6176112,
          2.499789,
          6.1834097,
          3.1043032,
          2.3580232,
          6.7360182,
          5.0414701,
          2.4197113,
          3.5234846,
          5.8788948,
          -2.015418,
          -4.1024782,
          2.2481797,
          3.6959771,
          2.8263171,
          5.7357819,
          -0.4645212,
          7.1217592,
          7.5029213,
          5.6062495,
          -1.6249565,
          -75.5100002,
          2.273457,
          2.240206,
          0.1967379,
          4.0852818,
          -0.6308396,
          2.5107384,
          2.5077111,
          -2.7602707,
          2.2959423,
          1.3549991,
          -1.4269698,
          2.0823355,
          2.4396714,
          2.6608169,
          2.0917721820108612,
          0.6889268,
          1.7631125,
          2.2890454,
          3.2131307,
          3.1599434,
          -0.05124516516193034,
          -1.6800198,
          2.1573695
         ],
         "marker": {
          "color": [
           2499,
           1784,
           4125,
           2758,
           6690,
           6421,
           3765,
           3046,
           1350,
           2329,
           2255,
           1839,
           1559,
           4874,
           3426,
           7135,
           3991,
           2782,
           1496,
           1135,
           4627,
           2948,
           3866,
           4121,
           4989,
           3770,
           4283,
           5850,
           1925,
           5781,
           3052,
           2957,
           4750,
           1670,
           2026,
           4372,
           6509,
           1565,
           4170,
           2303,
           10306,
           3376,
           1394,
           3312,
           2783,
           4103,
           1919,
           3760,
           4732,
           5591,
           3219,
           2173,
           4126,
           5467,
           2942,
           1654,
           3171,
           2483,
           1961,
           3555,
           3255,
           1454,
           2076,
           3736,
           5986,
           6066,
           6583,
           4515,
           2286,
           2510,
           2168,
           3237,
           1737,
           9093,
           1433,
           1963,
           3737,
           3026,
           5699,
           1483,
           6352,
           1145,
           4137,
           5407,
           1489,
           3132,
           6210,
           4196,
           1531,
           1895,
           1227,
           2629,
           4183,
           2970,
           2560,
           1702,
           3393,
           3459,
           1418,
           3348,
           2020,
           3322,
           3775,
           3539,
           2183,
           4906,
           1658,
           3026,
           3647,
           1640,
           3342,
           2803,
           2380,
           2386,
           1563,
           5175,
           4341,
           4293,
           1749,
           2166,
           7770,
           8648,
           1679,
           1598,
           3638,
           3837,
           5349,
           1309,
           5266,
           1703,
           1820,
           1834,
           8438,
           2675,
           5952,
           2531,
           5827,
           6340,
           1602,
           2730,
           3445,
           3228,
           5230
          ],
          "coloraxis": "coloraxis",
          "size": [
           726,
           1233,
           657,
           691,
           781,
           605,
           873,
           514,
           568,
           1421,
           701,
           877,
           687,
           1107,
           1201,
           629,
           732,
           1097,
           1001,
           2574,
           4826,
           534,
           802,
           897,
           552,
           516,
           694,
           687,
           565,
           561,
           524,
           891,
           896,
           978,
           2437,
           901,
           977,
           795,
           589,
           2737,
           836,
           549,
           659,
           1498,
           782,
           7411,
           1421,
           1602,
           552,
           521,
           1412,
           689,
           611,
           1041,
           750,
           1336,
           5827,
           1893,
           2869,
           567,
           798,
           2090,
           785,
           602,
           644,
           693,
           513,
           1919,
           2820,
           911,
           1661,
           655,
           540,
           941,
           696,
           543,
           527,
           587,
           1422,
           1094,
           583,
           647,
           694,
           721,
           807,
           4266,
           639,
           1130,
           2171,
           662,
           512,
           2405,
           528,
           536,
           587,
           837,
           832,
           6296,
           782,
           745,
           1524,
           699,
           836,
           538,
           1032,
           537,
           607,
           825,
           1121,
           729,
           1169,
           1215,
           586,
           1226,
           950,
           514,
           724,
           717,
           1011,
           2140,
           831,
           1693,
           2560,
           517,
           770,
           843,
           627,
           819,
           695,
           867,
           1025,
           650,
           882,
           548,
           661,
           2286,
           1209,
           1372,
           969,
           513,
           904,
           1877,
           531
          ],
          "sizemode": "area",
          "sizeref": 18.5275
         },
         "mode": "markers",
         "name": "",
         "showlegend": false,
         "subplot": "mapbox",
         "type": "scattermapbox"
        }
       ],
       "layout": {
        "coloraxis": {
         "colorbar": {
          "title": {
           "text": "PRIX"
          }
         },
         "colorscale": [
          [
           0,
           "rgb(0,0,255)"
          ],
          [
           1,
           "rgb(255,0,0)"
          ]
         ]
        },
        "height": 500,
        "legend": {
         "itemsizing": "constant",
         "tracegroupgap": 0
        },
        "mapbox": {
         "center": {
          "lat": 47.232883723426575,
          "lon": 1.6826947175948692
         },
         "domain": {
          "x": [
           0,
           1
          ],
          "y": [
           0,
           1
          ]
         },
         "style": "open-street-map",
         "zoom": 4.5
        },
        "margin": {
         "b": 0,
         "l": 0,
         "r": 0,
         "t": 0
        },
        "template": {
         "data": {
          "bar": [
           {
            "error_x": {
             "color": "#2a3f5f"
            },
            "error_y": {
             "color": "#2a3f5f"
            },
            "marker": {
             "line": {
              "color": "#E5ECF6",
              "width": 0.5
             }
            },
            "type": "bar"
           }
          ],
          "barpolar": [
           {
            "marker": {
             "line": {
              "color": "#E5ECF6",
              "width": 0.5
             }
            },
            "type": "barpolar"
           }
          ],
          "carpet": [
           {
            "aaxis": {
             "endlinecolor": "#2a3f5f",
             "gridcolor": "white",
             "linecolor": "white",
             "minorgridcolor": "white",
             "startlinecolor": "#2a3f5f"
            },
            "baxis": {
             "endlinecolor": "#2a3f5f",
             "gridcolor": "white",
             "linecolor": "white",
             "minorgridcolor": "white",
             "startlinecolor": "#2a3f5f"
            },
            "type": "carpet"
           }
          ],
          "choropleth": [
           {
            "colorbar": {
             "outlinewidth": 0,
             "ticks": ""
            },
            "type": "choropleth"
           }
          ],
          "contour": [
           {
            "colorbar": {
             "outlinewidth": 0,
             "ticks": ""
            },
            "colorscale": [
             [
              0,
              "#0d0887"
             ],
             [
              0.1111111111111111,
              "#46039f"
             ],
             [
              0.2222222222222222,
              "#7201a8"
             ],
             [
              0.3333333333333333,
              "#9c179e"
             ],
             [
              0.4444444444444444,
              "#bd3786"
             ],
             [
              0.5555555555555556,
              "#d8576b"
             ],
             [
              0.6666666666666666,
              "#ed7953"
             ],
             [
              0.7777777777777778,
              "#fb9f3a"
             ],
             [
              0.8888888888888888,
              "#fdca26"
             ],
             [
              1,
              "#f0f921"
             ]
            ],
            "type": "contour"
           }
          ],
          "contourcarpet": [
           {
            "colorbar": {
             "outlinewidth": 0,
             "ticks": ""
            },
            "type": "contourcarpet"
           }
          ],
          "heatmap": [
           {
            "colorbar": {
             "outlinewidth": 0,
             "ticks": ""
            },
            "colorscale": [
             [
              0,
              "#0d0887"
             ],
             [
              0.1111111111111111,
              "#46039f"
             ],
             [
              0.2222222222222222,
              "#7201a8"
             ],
             [
              0.3333333333333333,
              "#9c179e"
             ],
             [
              0.4444444444444444,
              "#bd3786"
             ],
             [
              0.5555555555555556,
              "#d8576b"
             ],
             [
              0.6666666666666666,
              "#ed7953"
             ],
             [
              0.7777777777777778,
              "#fb9f3a"
             ],
             [
              0.8888888888888888,
              "#fdca26"
             ],
             [
              1,
              "#f0f921"
             ]
            ],
            "type": "heatmap"
           }
          ],
          "heatmapgl": [
           {
            "colorbar": {
             "outlinewidth": 0,
             "ticks": ""
            },
            "colorscale": [
             [
              0,
              "#0d0887"
             ],
             [
              0.1111111111111111,
              "#46039f"
             ],
             [
              0.2222222222222222,
              "#7201a8"
             ],
             [
              0.3333333333333333,
              "#9c179e"
             ],
             [
              0.4444444444444444,
              "#bd3786"
             ],
             [
              0.5555555555555556,
              "#d8576b"
             ],
             [
              0.6666666666666666,
              "#ed7953"
             ],
             [
              0.7777777777777778,
              "#fb9f3a"
             ],
             [
              0.8888888888888888,
              "#fdca26"
             ],
             [
              1,
              "#f0f921"
             ]
            ],
            "type": "heatmapgl"
           }
          ],
          "histogram": [
           {
            "marker": {
             "colorbar": {
              "outlinewidth": 0,
              "ticks": ""
             }
            },
            "type": "histogram"
           }
          ],
          "histogram2d": [
           {
            "colorbar": {
             "outlinewidth": 0,
             "ticks": ""
            },
            "colorscale": [
             [
              0,
              "#0d0887"
             ],
             [
              0.1111111111111111,
              "#46039f"
             ],
             [
              0.2222222222222222,
              "#7201a8"
             ],
             [
              0.3333333333333333,
              "#9c179e"
             ],
             [
              0.4444444444444444,
              "#bd3786"
             ],
             [
              0.5555555555555556,
              "#d8576b"
             ],
             [
              0.6666666666666666,
              "#ed7953"
             ],
             [
              0.7777777777777778,
              "#fb9f3a"
             ],
             [
              0.8888888888888888,
              "#fdca26"
             ],
             [
              1,
              "#f0f921"
             ]
            ],
            "type": "histogram2d"
           }
          ],
          "histogram2dcontour": [
           {
            "colorbar": {
             "outlinewidth": 0,
             "ticks": ""
            },
            "colorscale": [
             [
              0,
              "#0d0887"
             ],
             [
              0.1111111111111111,
              "#46039f"
             ],
             [
              0.2222222222222222,
              "#7201a8"
             ],
             [
              0.3333333333333333,
              "#9c179e"
             ],
             [
              0.4444444444444444,
              "#bd3786"
             ],
             [
              0.5555555555555556,
              "#d8576b"
             ],
             [
              0.6666666666666666,
              "#ed7953"
             ],
             [
              0.7777777777777778,
              "#fb9f3a"
             ],
             [
              0.8888888888888888,
              "#fdca26"
             ],
             [
              1,
              "#f0f921"
             ]
            ],
            "type": "histogram2dcontour"
           }
          ],
          "mesh3d": [
           {
            "colorbar": {
             "outlinewidth": 0,
             "ticks": ""
            },
            "type": "mesh3d"
           }
          ],
          "parcoords": [
           {
            "line": {
             "colorbar": {
              "outlinewidth": 0,
              "ticks": ""
             }
            },
            "type": "parcoords"
           }
          ],
          "pie": [
           {
            "automargin": true,
            "type": "pie"
           }
          ],
          "scatter": [
           {
            "marker": {
             "colorbar": {
              "outlinewidth": 0,
              "ticks": ""
             }
            },
            "type": "scatter"
           }
          ],
          "scatter3d": [
           {
            "line": {
             "colorbar": {
              "outlinewidth": 0,
              "ticks": ""
             }
            },
            "marker": {
             "colorbar": {
              "outlinewidth": 0,
              "ticks": ""
             }
            },
            "type": "scatter3d"
           }
          ],
          "scattercarpet": [
           {
            "marker": {
             "colorbar": {
              "outlinewidth": 0,
              "ticks": ""
             }
            },
            "type": "scattercarpet"
           }
          ],
          "scattergeo": [
           {
            "marker": {
             "colorbar": {
              "outlinewidth": 0,
              "ticks": ""
             }
            },
            "type": "scattergeo"
           }
          ],
          "scattergl": [
           {
            "marker": {
             "colorbar": {
              "outlinewidth": 0,
              "ticks": ""
             }
            },
            "type": "scattergl"
           }
          ],
          "scattermapbox": [
           {
            "marker": {
             "colorbar": {
              "outlinewidth": 0,
              "ticks": ""
             }
            },
            "type": "scattermapbox"
           }
          ],
          "scatterpolar": [
           {
            "marker": {
             "colorbar": {
              "outlinewidth": 0,
              "ticks": ""
             }
            },
            "type": "scatterpolar"
           }
          ],
          "scatterpolargl": [
           {
            "marker": {
             "colorbar": {
              "outlinewidth": 0,
              "ticks": ""
             }
            },
            "type": "scatterpolargl"
           }
          ],
          "scatterternary": [
           {
            "marker": {
             "colorbar": {
              "outlinewidth": 0,
              "ticks": ""
             }
            },
            "type": "scatterternary"
           }
          ],
          "surface": [
           {
            "colorbar": {
             "outlinewidth": 0,
             "ticks": ""
            },
            "colorscale": [
             [
              0,
              "#0d0887"
             ],
             [
              0.1111111111111111,
              "#46039f"
             ],
             [
              0.2222222222222222,
              "#7201a8"
             ],
             [
              0.3333333333333333,
              "#9c179e"
             ],
             [
              0.4444444444444444,
              "#bd3786"
             ],
             [
              0.5555555555555556,
              "#d8576b"
             ],
             [
              0.6666666666666666,
              "#ed7953"
             ],
             [
              0.7777777777777778,
              "#fb9f3a"
             ],
             [
              0.8888888888888888,
              "#fdca26"
             ],
             [
              1,
              "#f0f921"
             ]
            ],
            "type": "surface"
           }
          ],
          "table": [
           {
            "cells": {
             "fill": {
              "color": "#EBF0F8"
             },
             "line": {
              "color": "white"
             }
            },
            "header": {
             "fill": {
              "color": "#C8D4E3"
             },
             "line": {
              "color": "white"
             }
            },
            "type": "table"
           }
          ]
         },
         "layout": {
          "annotationdefaults": {
           "arrowcolor": "#2a3f5f",
           "arrowhead": 0,
           "arrowwidth": 1
          },
          "coloraxis": {
           "colorbar": {
            "outlinewidth": 0,
            "ticks": ""
           }
          },
          "colorscale": {
           "diverging": [
            [
             0,
             "#8e0152"
            ],
            [
             0.1,
             "#c51b7d"
            ],
            [
             0.2,
             "#de77ae"
            ],
            [
             0.3,
             "#f1b6da"
            ],
            [
             0.4,
             "#fde0ef"
            ],
            [
             0.5,
             "#f7f7f7"
            ],
            [
             0.6,
             "#e6f5d0"
            ],
            [
             0.7,
             "#b8e186"
            ],
            [
             0.8,
             "#7fbc41"
            ],
            [
             0.9,
             "#4d9221"
            ],
            [
             1,
             "#276419"
            ]
           ],
           "sequential": [
            [
             0,
             "#0d0887"
            ],
            [
             0.1111111111111111,
             "#46039f"
            ],
            [
             0.2222222222222222,
             "#7201a8"
            ],
            [
             0.3333333333333333,
             "#9c179e"
            ],
            [
             0.4444444444444444,
             "#bd3786"
            ],
            [
             0.5555555555555556,
             "#d8576b"
            ],
            [
             0.6666666666666666,
             "#ed7953"
            ],
            [
             0.7777777777777778,
             "#fb9f3a"
            ],
            [
             0.8888888888888888,
             "#fdca26"
            ],
            [
             1,
             "#f0f921"
            ]
           ],
           "sequentialminus": [
            [
             0,
             "#0d0887"
            ],
            [
             0.1111111111111111,
             "#46039f"
            ],
            [
             0.2222222222222222,
             "#7201a8"
            ],
            [
             0.3333333333333333,
             "#9c179e"
            ],
            [
             0.4444444444444444,
             "#bd3786"
            ],
            [
             0.5555555555555556,
             "#d8576b"
            ],
            [
             0.6666666666666666,
             "#ed7953"
            ],
            [
             0.7777777777777778,
             "#fb9f3a"
            ],
            [
             0.8888888888888888,
             "#fdca26"
            ],
            [
             1,
             "#f0f921"
            ]
           ]
          },
          "colorway": [
           "#636efa",
           "#EF553B",
           "#00cc96",
           "#ab63fa",
           "#FFA15A",
           "#19d3f3",
           "#FF6692",
           "#B6E880",
           "#FF97FF",
           "#FECB52"
          ],
          "font": {
           "color": "#2a3f5f"
          },
          "geo": {
           "bgcolor": "white",
           "lakecolor": "white",
           "landcolor": "#E5ECF6",
           "showlakes": true,
           "showland": true,
           "subunitcolor": "white"
          },
          "hoverlabel": {
           "align": "left"
          },
          "hovermode": "closest",
          "mapbox": {
           "style": "light"
          },
          "paper_bgcolor": "white",
          "plot_bgcolor": "#E5ECF6",
          "polar": {
           "angularaxis": {
            "gridcolor": "white",
            "linecolor": "white",
            "ticks": ""
           },
           "bgcolor": "#E5ECF6",
           "radialaxis": {
            "gridcolor": "white",
            "linecolor": "white",
            "ticks": ""
           }
          },
          "scene": {
           "xaxis": {
            "backgroundcolor": "#E5ECF6",
            "gridcolor": "white",
            "gridwidth": 2,
            "linecolor": "white",
            "showbackground": true,
            "ticks": "",
            "zerolinecolor": "white"
           },
           "yaxis": {
            "backgroundcolor": "#E5ECF6",
            "gridcolor": "white",
            "gridwidth": 2,
            "linecolor": "white",
            "showbackground": true,
            "ticks": "",
            "zerolinecolor": "white"
           },
           "zaxis": {
            "backgroundcolor": "#E5ECF6",
            "gridcolor": "white",
            "gridwidth": 2,
            "linecolor": "white",
            "showbackground": true,
            "ticks": "",
            "zerolinecolor": "white"
           }
          },
          "shapedefaults": {
           "line": {
            "color": "#2a3f5f"
           }
          },
          "ternary": {
           "aaxis": {
            "gridcolor": "white",
            "linecolor": "white",
            "ticks": ""
           },
           "baxis": {
            "gridcolor": "white",
            "linecolor": "white",
            "ticks": ""
           },
           "bgcolor": "#E5ECF6",
           "caxis": {
            "gridcolor": "white",
            "linecolor": "white",
            "ticks": ""
           }
          },
          "title": {
           "x": 0.05
          },
          "xaxis": {
           "automargin": true,
           "gridcolor": "white",
           "linecolor": "white",
           "ticks": "",
           "title": {
            "standoff": 15
           },
           "zerolinecolor": "white",
           "zerolinewidth": 2
          },
          "yaxis": {
           "automargin": true,
           "gridcolor": "white",
           "linecolor": "white",
           "ticks": "",
           "title": {
            "standoff": 15
           },
           "zerolinecolor": "white",
           "zerolinewidth": 2
          }
         }
        }
       }
      },
      "text/html": [
       "<div>\n",
       "        \n",
       "        \n",
       "            <div id=\"881ba477-f4c5-475e-8d5c-f892d9dbabb3\" class=\"plotly-graph-div\" style=\"height:500px; width:100%;\"></div>\n",
       "            <script type=\"text/javascript\">\n",
       "                require([\"plotly\"], function(Plotly) {\n",
       "                    window.PLOTLYENV=window.PLOTLYENV || {};\n",
       "                    \n",
       "                if (document.getElementById(\"881ba477-f4c5-475e-8d5c-f892d9dbabb3\")) {\n",
       "                    Plotly.newPlot(\n",
       "                        '881ba477-f4c5-475e-8d5c-f892d9dbabb3',\n",
       "                        [{\"customdata\": [[726.0, 2499.0], [1233.0, 1784.0], [657.0, 4125.0], [691.0, 2758.0], [781.0, 6690.0], [605.0, 6421.0], [873.0, 3765.0], [514.0, 3046.0], [568.0, 1350.0], [1421.0, 2329.0], [701.0, 2255.0], [877.0, 1839.0], [687.0, 1559.0], [1107.0, 4874.0], [1201.0, 3426.0], [629.0, 7135.0], [732.0, 3991.0], [1097.0, 2782.0], [1001.0, 1496.0], [2574.0, 1135.0], [4826.0, 4627.0], [534.0, 2948.0], [802.0, 3866.0], [897.0, 4121.0], [552.0, 4989.0], [516.0, 3770.0], [694.0, 4283.0], [687.0, 5850.0], [565.0, 1925.0], [561.0, 5781.0], [524.0, 3052.0], [891.0, 2957.0], [896.0, 4750.0], [978.0, 1670.0], [2437.0, 2026.0], [901.0, 4372.0], [977.0, 6509.0], [795.0, 1565.0], [589.0, 4170.0], [2737.0, 2303.0], [836.0, 10306.0], [549.0, 3376.0], [659.0, 1394.0], [1498.0, 3312.0], [782.0, 2783.0], [7411.0, 4103.0], [1421.0, 1919.0], [1602.0, 3760.0], [552.0, 4732.0], [521.0, 5591.0], [1412.0, 3219.0], [689.0, 2173.0], [611.0, 4126.0], [1041.0, 5467.0], [750.0, 2942.0], [1336.0, 1654.0], [5827.0, 3171.0], [1893.0, 2483.0], [2869.0, 1961.0], [567.0, 3555.0], [798.0, 3255.0], [2090.0, 1454.0], [785.0, 2076.0], [602.0, 3736.0], [644.0, 5986.0], [693.0, 6066.0], [513.0, 6583.0], [1919.0, 4515.0], [2820.0, 2286.0], [911.0, 2510.0], [1661.0, 2168.0], [655.0, 3237.0], [540.0, 1737.0], [941.0, 9093.0], [696.0, 1433.0], [543.0, 1963.0], [527.0, 3737.0], [587.0, 3026.0], [1422.0, 5699.0], [1094.0, 1483.0], [583.0, 6352.0], [647.0, 1145.0], [694.0, 4137.0], [721.0, 5407.0], [807.0, 1489.0], [4266.0, 3132.0], [639.0, 6210.0], [1130.0, 4196.0], [2171.0, 1531.0], [662.0, 1895.0], [512.0, 1227.0], [2405.0, 2629.0], [528.0, 4183.0], [536.0, 2970.0], [587.0, 2560.0], [837.0, 1702.0], [832.0, 3393.0], [6296.0, 3459.0], [782.0, 1418.0], [745.0, 3348.0], [1524.0, 2020.0], [699.0, 3322.0], [836.0, 3775.0], [538.0, 3539.0], [1032.0, 2183.0], [537.0, 4906.0], [607.0, 1658.0], [825.0, 3026.0], [1121.0, 3647.0], [729.0, 1640.0], [1169.0, 3342.0], [1215.0, 2803.0], [586.0, 2380.0], [1226.0, 2386.0], [950.0, 1563.0], [514.0, 5175.0], [724.0, 4341.0], [717.0, 4293.0], [1011.0, 1749.0], [2140.0, 2166.0], [831.0, 7770.0], [1693.0, 8648.0], [2560.0, 1679.0], [517.0, 1598.0], [770.0, 3638.0], [843.0, 3837.0], [627.0, 5349.0], [819.0, 1309.0], [695.0, 5266.0], [867.0, 1703.0], [1025.0, 1820.0], [650.0, 1834.0], [882.0, 8438.0], [548.0, 2675.0], [661.0, 5952.0], [2286.0, 2531.0], [1209.0, 5827.0], [1372.0, 6340.0], [969.0, 1602.0], [513.0, 2730.0], [904.0, 3445.0], [1877.0, 3228.0], [531.0, 5230.0]], \"hovertemplate\": \"<b>%{hovertext}</b><br><br>VENTES=%{customdata[0]}<br>PRIX=%{marker.color}<br>lat=%{lat}<br>lon=%{lon}<extra></extra>\", \"hovertext\": [\"CORBEIL ESSONNES\", \"POITIERS\", \"VITRY SUR SEINE\", \"MEAUX\", \"COURBEVOIE\", \"ARCACHON\", \"CRETEIL\", \"AUBAGNE\", \"CARCASSONNE\", \"SAINT NAZAIRE\", \"CHARTRES\", \"LORIENT\", \"BLOIS\", \"CANNES\", \"MERIGNAC\", \"MONTROUGE\", \"TALENCE\", \"VANNES\", \"BOURGES\", \"SAINT ETIENNE\", \"BORDEAUX\", \"LAMBERSART\", \"NOISY LE GRAND\", \"GRAU DU ROI\", \"HOUILLES\", \"CALUIRE ET CUIRE\", \"SIX FOURS LES PLAGES\", \"FONTENAY SOUS BOIS\", \"ALBI\", \"SAINT OUEN SUR SEINE\", \"THONON LES BAINS\", \"MONTPELLIER\", \"BAULE ESCOUBLAC\", \"CHOLET\", \"NIMES\", \"AIX EN PROVENCE\", \"VERSAILLES\", \"BRIVE LA GAILLARDE\", \"SAINT LAURENT DU VAR\", \"REIMS\", \"NEUILLY SUR SEINE\", \"GAGNY\", \"CALAIS\", \"SABLES D OLONNE\", \"REZE\", \"NICE\", \"CLERMONT FERRAND\", \"ROCHELLE\", \"TESTE DE BUCH\", \"MEUDON\", \"AGDE\", \"EVRY COURCOURONNES\", \"VALLAURIS\", \"COLOMBES\", \"CERGY\", \"TOURCOING\", \"TOULOUSE\", \"ROUEN\", \"HAVRE\", \"CONFLANS SAINTE HONORINE\", \"CHELLES\", \"LIMOGES\", \"NARBONNE\", \"AUBERVILLIERS\", \"CLAMART\", \"RUEIL MALMAISON\", \"GARENNE COLOMBES\", \"ANTIBES\", \"ANGERS\", \"SAINT HERBLAIN\", \"AMIENS\", \"LIVRY GARGAN\", \"DUNKERQUE\", \"LEVALLOIS PERRET\", \"ANGOULEME\", \"JOUE LES TOURS\", \"ROSNY SOUS BOIS\", \"FRANCONVILLE\", \"SAINT MAUR DES FOSSES\", \"TROYES\", \"CLICHY\", \"ROANNE\", \"SARTROUVILLE\", \"MAISONS ALFORT\", \"ROUBAIX\", \"LILLE\", \"NOGENT SUR MARNE\", \"CAGNES SUR MER\", \"BREST\", \"ARRAS\", \"EPINAL\", \"TOULON\", \"SAINT RAPHAEL\", \"MADELEINE\", \"SAINT HILAIRE DE RIEZ\", \"LAVAL\", \"VILLEURBANNE\", \"NANTES\", \"AGEN\", \"AULNAY SOUS BOIS\", \"NANCY\", \"MARCQ EN BAROEUL\", \"SAINT DENIS\", \"FREJUS\", \"DIJON\", \"ALFORTVILLE\", \"VALENCIENNES\", \"SEYNE SUR MER\", \"SAINT MALO\", \"QUIMPER\", \"ARGENTEUIL\", \"SETE\", \"COMPIEGNE\", \"GRENOBLE\", \"NIORT\", \"VILLENEUVE LOUBET\", \"MENTON\", \"CIOTAT\", \"CHERBOURG EN COTENTIN\", \"ORLEANS\", \"ISSY LES MOULINEAUX\", \"BOULOGNE BILLANCOURT\", \"MANS\", \"ALES\", \"PESSAC\", \"CHAMPIGNY SUR MARNE\", \"PERREUX SUR MARNE\", \"SAINT BRIEUC\", \"ANTONY\", \"MONTAUBAN\", \"ROCHE SUR YON\", \"BEAUVAIS\", \"VINCENNES\", \"MELUN\", \"SAINT GERMAIN EN LAYE\", \"TOURS\", \"MONTREUIL\", \"ASNIERES SUR SEINE\", \"BEZIERS\", \"VILLENEUVE D ASCQ\", \"CANNET\", \"RENNES\", \"CHATOU\"], \"lat\": [48.6137734, 46.5802596, 48.7876, 48.9582708, 48.8953328, 44.6539428, 48.7771486, 43.2924385, 43.2130358, 47.2733517, 48.4438601, 47.7477336, 47.5876861, 43.5515198, 44.8422361, 48.8188544, 44.8088438, 47.6586772, 47.0805693, 45.4401467, 44.841225, 50.6477924, 48.8493972, 43.5361048, 48.9229416, 45.7969952, 43.0935105, 48.8490721, 43.9277552, 48.911729, 46.3731303, 43.6112422, 47.2843726, 47.0617293, 43.8374249, 43.5298424, 48.8035403, 45.1584982, 43.6690101, 49.2577886, 48.884683, 48.8853708, 50.9488, 46.5488396, 47.1905456, 43.7009358, 45.7774551, 46.1591126, 44.6316943, 48.8126688, 43.3134787, 48.6284131, 43.5761001, 48.922788, 49.0527528, 50.7235038, 43.6044622, 49.4404591, 49.4938975, 48.9938791, 49.3549458, 45.8354243, 43.1837661, 48.9146078, 48.800368, 48.87778, 48.9069349, 43.5836, 47.4739884, 47.2233007, 49.8941708, 48.917335, 51.0347708, 48.892956, 45.6512748, 47.3510905, 48.8716626, 48.5000906, 48.8033057, 48.2971626, 48.9026, 46.0345572, 48.9409016, 48.8012045, 50.6915893, 50.6365654, 48.8388009, 43.6612012, 48.3905283, 50.291048, 48.1747684, 43.1257311, 45.3043079, 50.6565418, 46.7219444, 48.0710377, 45.7733105, 47.2186371, 44.2015827, 48.934231, 48.6937223, 50.6767018, 48.935773, 43.4330308, 47.3215806, 48.8051624, 50.3579317, 43.1007714, 48.6454528, 47.9960325, 48.9479069, 43.4014434, 49.4179497, 45.1875602, 46.3239455, 43.6579947, 43.7753495, 43.1758591, 49.6425343, 45.4810323, 48.8250508, 48.8356649, 48.0073498, 44.1253665, 44.805615, 48.8137759, 48.840627, 48.5141594, 48.753554, 44.0175835, 46.6705431, 49.4300997, 48.8474508, 48.539927, 48.935606899999996, 47.3900474, 50.4638918, 48.9105948, 43.3426562, 50.6195154, 43.61666715, 48.1113387, 48.8897044], \"legendgroup\": \"\", \"lon\": [2.4818087, 0.340196, 2.39164, 2.8773541, 2.2561602, -1.1755714, 2.4530731, 5.5703031, 2.3491069, -2.2138905, 1.4881434, -3.3660907, 1.3337639, 7.0134418, -0.6469599, 2.3194375, -0.5879629, -2.7599079, 2.398932, 4.3873058, -0.5800364, 3.0223644, 2.5519571, 4.1360255, 2.1868998, 4.8423304, 5.8393953, 2.4749347, 2.147899, 2.334267, 6.4779448, 3.8767337, -2.3951595, -0.8801349, 4.3600687, 5.4474738, 2.1266886, 1.5332389, 7.1906969, 4.031926, 2.2695658, 2.5361783, 1.87468, -1.807451128918664, -1.5695287, 7.2683912, 3.0819427, -1.1520434, -1.1491319, 2.2385432, 3.4771629, 2.4345980281360133, 7.05859, 2.2543577, 2.0388736, 3.1605714, 1.4442469, 1.0939658, 0.1079732, 2.0949768, 3.0344372, 1.2644847, 3.0042121, 2.3821895, 2.2630292, 2.1802832, 2.2465748, 7.10905, -0.5515588, -1.6346964, 2.2956951, 2.5298854, 2.3772525, 2.2881683, 0.1576745, 0.6622524, 2.4875193, 6.4527267, 2.4853015, 4.0746257, 2.30551, 4.0729178, 2.1585037, 2.4309703, 3.1741734, 3.0635282, 2.4917292, 7.1513834, -4.4860088, 2.7772211, 6.4503643, 5.9304919, 1.0747165, 3.0678164, -1.9441667, -0.7723499, 4.8869339, -1.5541362, 0.6176112, 2.499789, 6.1834097, 3.1043032, 2.3580232, 6.7360182, 5.0414701, 2.4197113, 3.5234846, 5.8788948, -2.015418, -4.1024782, 2.2481797, 3.6959771, 2.8263171, 5.7357819, -0.4645212, 7.1217592, 7.5029213, 5.6062495, -1.6249565, -75.5100002, 2.273457, 2.240206, 0.1967379, 4.0852818, -0.6308396, 2.5107384, 2.5077111, -2.7602707, 2.2959423, 1.3549991, -1.4269698, 2.0823355, 2.4396714, 2.6608169, 2.0917721820108612, 0.6889268, 1.7631125, 2.2890454, 3.2131307, 3.1599434, -0.05124516516193034, -1.6800198, 2.1573695], \"marker\": {\"color\": [2499.0, 1784.0, 4125.0, 2758.0, 6690.0, 6421.0, 3765.0, 3046.0, 1350.0, 2329.0, 2255.0, 1839.0, 1559.0, 4874.0, 3426.0, 7135.0, 3991.0, 2782.0, 1496.0, 1135.0, 4627.0, 2948.0, 3866.0, 4121.0, 4989.0, 3770.0, 4283.0, 5850.0, 1925.0, 5781.0, 3052.0, 2957.0, 4750.0, 1670.0, 2026.0, 4372.0, 6509.0, 1565.0, 4170.0, 2303.0, 10306.0, 3376.0, 1394.0, 3312.0, 2783.0, 4103.0, 1919.0, 3760.0, 4732.0, 5591.0, 3219.0, 2173.0, 4126.0, 5467.0, 2942.0, 1654.0, 3171.0, 2483.0, 1961.0, 3555.0, 3255.0, 1454.0, 2076.0, 3736.0, 5986.0, 6066.0, 6583.0, 4515.0, 2286.0, 2510.0, 2168.0, 3237.0, 1737.0, 9093.0, 1433.0, 1963.0, 3737.0, 3026.0, 5699.0, 1483.0, 6352.0, 1145.0, 4137.0, 5407.0, 1489.0, 3132.0, 6210.0, 4196.0, 1531.0, 1895.0, 1227.0, 2629.0, 4183.0, 2970.0, 2560.0, 1702.0, 3393.0, 3459.0, 1418.0, 3348.0, 2020.0, 3322.0, 3775.0, 3539.0, 2183.0, 4906.0, 1658.0, 3026.0, 3647.0, 1640.0, 3342.0, 2803.0, 2380.0, 2386.0, 1563.0, 5175.0, 4341.0, 4293.0, 1749.0, 2166.0, 7770.0, 8648.0, 1679.0, 1598.0, 3638.0, 3837.0, 5349.0, 1309.0, 5266.0, 1703.0, 1820.0, 1834.0, 8438.0, 2675.0, 5952.0, 2531.0, 5827.0, 6340.0, 1602.0, 2730.0, 3445.0, 3228.0, 5230.0], \"coloraxis\": \"coloraxis\", \"size\": [726.0, 1233.0, 657.0, 691.0, 781.0, 605.0, 873.0, 514.0, 568.0, 1421.0, 701.0, 877.0, 687.0, 1107.0, 1201.0, 629.0, 732.0, 1097.0, 1001.0, 2574.0, 4826.0, 534.0, 802.0, 897.0, 552.0, 516.0, 694.0, 687.0, 565.0, 561.0, 524.0, 891.0, 896.0, 978.0, 2437.0, 901.0, 977.0, 795.0, 589.0, 2737.0, 836.0, 549.0, 659.0, 1498.0, 782.0, 7411.0, 1421.0, 1602.0, 552.0, 521.0, 1412.0, 689.0, 611.0, 1041.0, 750.0, 1336.0, 5827.0, 1893.0, 2869.0, 567.0, 798.0, 2090.0, 785.0, 602.0, 644.0, 693.0, 513.0, 1919.0, 2820.0, 911.0, 1661.0, 655.0, 540.0, 941.0, 696.0, 543.0, 527.0, 587.0, 1422.0, 1094.0, 583.0, 647.0, 694.0, 721.0, 807.0, 4266.0, 639.0, 1130.0, 2171.0, 662.0, 512.0, 2405.0, 528.0, 536.0, 587.0, 837.0, 832.0, 6296.0, 782.0, 745.0, 1524.0, 699.0, 836.0, 538.0, 1032.0, 537.0, 607.0, 825.0, 1121.0, 729.0, 1169.0, 1215.0, 586.0, 1226.0, 950.0, 514.0, 724.0, 717.0, 1011.0, 2140.0, 831.0, 1693.0, 2560.0, 517.0, 770.0, 843.0, 627.0, 819.0, 695.0, 867.0, 1025.0, 650.0, 882.0, 548.0, 661.0, 2286.0, 1209.0, 1372.0, 969.0, 513.0, 904.0, 1877.0, 531.0], \"sizemode\": \"area\", \"sizeref\": 18.5275}, \"mode\": \"markers\", \"name\": \"\", \"showlegend\": false, \"subplot\": \"mapbox\", \"type\": \"scattermapbox\"}],\n",
       "                        {\"coloraxis\": {\"colorbar\": {\"title\": {\"text\": \"PRIX\"}}, \"colorscale\": [[0.0, \"rgb(0,0,255)\"], [1.0, \"rgb(255,0,0)\"]]}, \"height\": 500, \"legend\": {\"itemsizing\": \"constant\", \"tracegroupgap\": 0}, \"mapbox\": {\"center\": {\"lat\": 47.232883723426575, \"lon\": 1.6826947175948692}, \"domain\": {\"x\": [0.0, 1.0], \"y\": [0.0, 1.0]}, \"style\": \"open-street-map\", \"zoom\": 4.5}, \"margin\": {\"b\": 0, \"l\": 0, \"r\": 0, \"t\": 0}, \"template\": {\"data\": {\"bar\": [{\"error_x\": {\"color\": \"#2a3f5f\"}, \"error_y\": {\"color\": \"#2a3f5f\"}, \"marker\": {\"line\": {\"color\": \"#E5ECF6\", \"width\": 0.5}}, \"type\": \"bar\"}], \"barpolar\": [{\"marker\": {\"line\": {\"color\": \"#E5ECF6\", \"width\": 0.5}}, \"type\": \"barpolar\"}], \"carpet\": [{\"aaxis\": {\"endlinecolor\": \"#2a3f5f\", \"gridcolor\": \"white\", \"linecolor\": \"white\", \"minorgridcolor\": \"white\", \"startlinecolor\": \"#2a3f5f\"}, \"baxis\": {\"endlinecolor\": \"#2a3f5f\", \"gridcolor\": \"white\", \"linecolor\": \"white\", \"minorgridcolor\": \"white\", \"startlinecolor\": \"#2a3f5f\"}, \"type\": \"carpet\"}], \"choropleth\": [{\"colorbar\": {\"outlinewidth\": 0, \"ticks\": \"\"}, \"type\": \"choropleth\"}], \"contour\": [{\"colorbar\": {\"outlinewidth\": 0, \"ticks\": \"\"}, \"colorscale\": [[0.0, \"#0d0887\"], [0.1111111111111111, \"#46039f\"], [0.2222222222222222, \"#7201a8\"], [0.3333333333333333, \"#9c179e\"], [0.4444444444444444, \"#bd3786\"], [0.5555555555555556, \"#d8576b\"], [0.6666666666666666, \"#ed7953\"], [0.7777777777777778, \"#fb9f3a\"], [0.8888888888888888, \"#fdca26\"], [1.0, \"#f0f921\"]], \"type\": \"contour\"}], \"contourcarpet\": [{\"colorbar\": {\"outlinewidth\": 0, \"ticks\": \"\"}, \"type\": \"contourcarpet\"}], \"heatmap\": [{\"colorbar\": {\"outlinewidth\": 0, \"ticks\": \"\"}, \"colorscale\": [[0.0, \"#0d0887\"], [0.1111111111111111, \"#46039f\"], [0.2222222222222222, \"#7201a8\"], [0.3333333333333333, \"#9c179e\"], [0.4444444444444444, \"#bd3786\"], [0.5555555555555556, \"#d8576b\"], [0.6666666666666666, \"#ed7953\"], [0.7777777777777778, \"#fb9f3a\"], [0.8888888888888888, \"#fdca26\"], [1.0, \"#f0f921\"]], \"type\": \"heatmap\"}], \"heatmapgl\": [{\"colorbar\": {\"outlinewidth\": 0, \"ticks\": \"\"}, \"colorscale\": [[0.0, \"#0d0887\"], [0.1111111111111111, \"#46039f\"], [0.2222222222222222, \"#7201a8\"], [0.3333333333333333, \"#9c179e\"], [0.4444444444444444, \"#bd3786\"], [0.5555555555555556, \"#d8576b\"], [0.6666666666666666, \"#ed7953\"], [0.7777777777777778, \"#fb9f3a\"], [0.8888888888888888, \"#fdca26\"], [1.0, \"#f0f921\"]], \"type\": \"heatmapgl\"}], \"histogram\": [{\"marker\": {\"colorbar\": {\"outlinewidth\": 0, \"ticks\": \"\"}}, \"type\": \"histogram\"}], \"histogram2d\": [{\"colorbar\": {\"outlinewidth\": 0, \"ticks\": \"\"}, \"colorscale\": [[0.0, \"#0d0887\"], [0.1111111111111111, \"#46039f\"], [0.2222222222222222, \"#7201a8\"], [0.3333333333333333, \"#9c179e\"], [0.4444444444444444, \"#bd3786\"], [0.5555555555555556, \"#d8576b\"], [0.6666666666666666, \"#ed7953\"], [0.7777777777777778, \"#fb9f3a\"], [0.8888888888888888, \"#fdca26\"], [1.0, \"#f0f921\"]], \"type\": \"histogram2d\"}], \"histogram2dcontour\": [{\"colorbar\": {\"outlinewidth\": 0, \"ticks\": \"\"}, \"colorscale\": [[0.0, \"#0d0887\"], [0.1111111111111111, \"#46039f\"], [0.2222222222222222, \"#7201a8\"], [0.3333333333333333, \"#9c179e\"], [0.4444444444444444, \"#bd3786\"], [0.5555555555555556, \"#d8576b\"], [0.6666666666666666, \"#ed7953\"], [0.7777777777777778, \"#fb9f3a\"], [0.8888888888888888, \"#fdca26\"], [1.0, \"#f0f921\"]], \"type\": \"histogram2dcontour\"}], \"mesh3d\": [{\"colorbar\": {\"outlinewidth\": 0, \"ticks\": \"\"}, \"type\": \"mesh3d\"}], \"parcoords\": [{\"line\": {\"colorbar\": {\"outlinewidth\": 0, \"ticks\": \"\"}}, \"type\": \"parcoords\"}], \"pie\": [{\"automargin\": true, \"type\": \"pie\"}], \"scatter\": [{\"marker\": {\"colorbar\": {\"outlinewidth\": 0, \"ticks\": \"\"}}, \"type\": \"scatter\"}], \"scatter3d\": [{\"line\": {\"colorbar\": {\"outlinewidth\": 0, \"ticks\": \"\"}}, \"marker\": {\"colorbar\": {\"outlinewidth\": 0, \"ticks\": \"\"}}, \"type\": \"scatter3d\"}], \"scattercarpet\": [{\"marker\": {\"colorbar\": {\"outlinewidth\": 0, \"ticks\": \"\"}}, \"type\": \"scattercarpet\"}], \"scattergeo\": [{\"marker\": {\"colorbar\": {\"outlinewidth\": 0, \"ticks\": \"\"}}, \"type\": \"scattergeo\"}], \"scattergl\": [{\"marker\": {\"colorbar\": {\"outlinewidth\": 0, \"ticks\": \"\"}}, \"type\": \"scattergl\"}], \"scattermapbox\": [{\"marker\": {\"colorbar\": {\"outlinewidth\": 0, \"ticks\": \"\"}}, \"type\": \"scattermapbox\"}], \"scatterpolar\": [{\"marker\": {\"colorbar\": {\"outlinewidth\": 0, \"ticks\": \"\"}}, \"type\": \"scatterpolar\"}], \"scatterpolargl\": [{\"marker\": {\"colorbar\": {\"outlinewidth\": 0, \"ticks\": \"\"}}, \"type\": \"scatterpolargl\"}], \"scatterternary\": [{\"marker\": {\"colorbar\": {\"outlinewidth\": 0, \"ticks\": \"\"}}, \"type\": \"scatterternary\"}], \"surface\": [{\"colorbar\": {\"outlinewidth\": 0, \"ticks\": \"\"}, \"colorscale\": [[0.0, \"#0d0887\"], [0.1111111111111111, \"#46039f\"], [0.2222222222222222, \"#7201a8\"], [0.3333333333333333, \"#9c179e\"], [0.4444444444444444, \"#bd3786\"], [0.5555555555555556, \"#d8576b\"], [0.6666666666666666, \"#ed7953\"], [0.7777777777777778, \"#fb9f3a\"], [0.8888888888888888, \"#fdca26\"], [1.0, \"#f0f921\"]], \"type\": \"surface\"}], \"table\": [{\"cells\": {\"fill\": {\"color\": \"#EBF0F8\"}, \"line\": {\"color\": \"white\"}}, \"header\": {\"fill\": {\"color\": \"#C8D4E3\"}, \"line\": {\"color\": \"white\"}}, \"type\": \"table\"}]}, \"layout\": {\"annotationdefaults\": {\"arrowcolor\": \"#2a3f5f\", \"arrowhead\": 0, \"arrowwidth\": 1}, \"coloraxis\": {\"colorbar\": {\"outlinewidth\": 0, \"ticks\": \"\"}}, \"colorscale\": {\"diverging\": [[0, \"#8e0152\"], [0.1, \"#c51b7d\"], [0.2, \"#de77ae\"], [0.3, \"#f1b6da\"], [0.4, \"#fde0ef\"], [0.5, \"#f7f7f7\"], [0.6, \"#e6f5d0\"], [0.7, \"#b8e186\"], [0.8, \"#7fbc41\"], [0.9, \"#4d9221\"], [1, \"#276419\"]], \"sequential\": [[0.0, \"#0d0887\"], [0.1111111111111111, \"#46039f\"], [0.2222222222222222, \"#7201a8\"], [0.3333333333333333, \"#9c179e\"], [0.4444444444444444, \"#bd3786\"], [0.5555555555555556, \"#d8576b\"], [0.6666666666666666, \"#ed7953\"], [0.7777777777777778, \"#fb9f3a\"], [0.8888888888888888, \"#fdca26\"], [1.0, \"#f0f921\"]], \"sequentialminus\": [[0.0, \"#0d0887\"], [0.1111111111111111, \"#46039f\"], [0.2222222222222222, \"#7201a8\"], [0.3333333333333333, \"#9c179e\"], [0.4444444444444444, \"#bd3786\"], [0.5555555555555556, \"#d8576b\"], [0.6666666666666666, \"#ed7953\"], [0.7777777777777778, \"#fb9f3a\"], [0.8888888888888888, \"#fdca26\"], [1.0, \"#f0f921\"]]}, \"colorway\": [\"#636efa\", \"#EF553B\", \"#00cc96\", \"#ab63fa\", \"#FFA15A\", \"#19d3f3\", \"#FF6692\", \"#B6E880\", \"#FF97FF\", \"#FECB52\"], \"font\": {\"color\": \"#2a3f5f\"}, \"geo\": {\"bgcolor\": \"white\", \"lakecolor\": \"white\", \"landcolor\": \"#E5ECF6\", \"showlakes\": true, \"showland\": true, \"subunitcolor\": \"white\"}, \"hoverlabel\": {\"align\": \"left\"}, \"hovermode\": \"closest\", \"mapbox\": {\"style\": \"light\"}, \"paper_bgcolor\": \"white\", \"plot_bgcolor\": \"#E5ECF6\", \"polar\": {\"angularaxis\": {\"gridcolor\": \"white\", \"linecolor\": \"white\", \"ticks\": \"\"}, \"bgcolor\": \"#E5ECF6\", \"radialaxis\": {\"gridcolor\": \"white\", \"linecolor\": \"white\", \"ticks\": \"\"}}, \"scene\": {\"xaxis\": {\"backgroundcolor\": \"#E5ECF6\", \"gridcolor\": \"white\", \"gridwidth\": 2, \"linecolor\": \"white\", \"showbackground\": true, \"ticks\": \"\", \"zerolinecolor\": \"white\"}, \"yaxis\": {\"backgroundcolor\": \"#E5ECF6\", \"gridcolor\": \"white\", \"gridwidth\": 2, \"linecolor\": \"white\", \"showbackground\": true, \"ticks\": \"\", \"zerolinecolor\": \"white\"}, \"zaxis\": {\"backgroundcolor\": \"#E5ECF6\", \"gridcolor\": \"white\", \"gridwidth\": 2, \"linecolor\": \"white\", \"showbackground\": true, \"ticks\": \"\", \"zerolinecolor\": \"white\"}}, \"shapedefaults\": {\"line\": {\"color\": \"#2a3f5f\"}}, \"ternary\": {\"aaxis\": {\"gridcolor\": \"white\", \"linecolor\": \"white\", \"ticks\": \"\"}, \"baxis\": {\"gridcolor\": \"white\", \"linecolor\": \"white\", \"ticks\": \"\"}, \"bgcolor\": \"#E5ECF6\", \"caxis\": {\"gridcolor\": \"white\", \"linecolor\": \"white\", \"ticks\": \"\"}}, \"title\": {\"x\": 0.05}, \"xaxis\": {\"automargin\": true, \"gridcolor\": \"white\", \"linecolor\": \"white\", \"ticks\": \"\", \"title\": {\"standoff\": 15}, \"zerolinecolor\": \"white\", \"zerolinewidth\": 2}, \"yaxis\": {\"automargin\": true, \"gridcolor\": \"white\", \"linecolor\": \"white\", \"ticks\": \"\", \"title\": {\"standoff\": 15}, \"zerolinecolor\": \"white\", \"zerolinewidth\": 2}}}},\n",
       "                        {\"responsive\": true}\n",
       "                    ).then(function(){\n",
       "                            \n",
       "var gd = document.getElementById('881ba477-f4c5-475e-8d5c-f892d9dbabb3');\n",
       "var x = new MutationObserver(function (mutations, observer) {{\n",
       "        var display = window.getComputedStyle(gd).display;\n",
       "        if (!display || display === 'none') {{\n",
       "            console.log([gd, 'removed!']);\n",
       "            Plotly.purge(gd);\n",
       "            observer.disconnect();\n",
       "        }}\n",
       "}});\n",
       "\n",
       "// Listen for the removal of the full notebook cells\n",
       "var notebookContainer = gd.closest('#notebook-container');\n",
       "if (notebookContainer) {{\n",
       "    x.observe(notebookContainer, {childList: true});\n",
       "}}\n",
       "\n",
       "// Listen for the clearing of the current output cell\n",
       "var outputEl = gd.closest('.output');\n",
       "if (outputEl) {{\n",
       "    x.observe(outputEl, {childList: true});\n",
       "}}\n",
       "\n",
       "                        })\n",
       "                };\n",
       "                });\n",
       "            </script>\n",
       "        </div>"
      ]
     },
     "metadata": {},
     "output_type": "display_data"
    }
   ],
   "source": [
    "import plotly.express as px\n",
    "import plotly.io as pio\n",
    "\n",
    "fig = px.scatter_mapbox(df_sup_500, lat=df_lat_lon['lat'], lon=df_lat_lon['lon']\n",
    "                        , hover_name=\"NOM\", hover_data=[\"VENTES\", \"PRIX\"], size=\"VENTES\",color=\"PRIX\"\n",
    "                        , zoom=4.5, height=500, color_continuous_scale = \"bluered\")\n",
    "\n",
    "fig.update_layout(mapbox_style=\"open-street-map\")\n",
    "fig.update_layout(margin={\"r\":0,\"t\":0,\"l\":0,\"b\":0})\n",
    "fig.write_html(\"images/Sup500.html\")\n",
    "fig.show()"
   ]
  }
 ],
 "metadata": {
  "kernelspec": {
   "display_name": "Python 3",
   "language": "python",
   "name": "python3"
  },
  "language_info": {
   "codemirror_mode": {
    "name": "ipython",
    "version": 3
   },
   "file_extension": ".py",
   "mimetype": "text/x-python",
   "name": "python",
   "nbconvert_exporter": "python",
   "pygments_lexer": "ipython3",
   "version": "3.7.5"
  }
 },
 "nbformat": 4,
 "nbformat_minor": 2
}
